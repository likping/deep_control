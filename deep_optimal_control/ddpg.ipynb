{
 "cells": [
  {
   "cell_type": "markdown",
   "metadata": {},
   "source": [
    "## DDPG 算法理解性代码"
   ]
  },
  {
   "cell_type": "code",
   "execution_count": 1,
   "metadata": {},
   "outputs": [],
   "source": [
    "import torch\n",
    "import numpy as np\n",
    "import torch.nn as nn\n",
    "import torch.nn.functional as F"
   ]
  },
  {
   "cell_type": "markdown",
   "metadata": {},
   "source": [
    "## 如何做到连续控制\n",
    "$$\n",
    "\\mu(s;\\theta^{\\mu})\n",
    "$$\n",
    "通过神经网络将连续的状态张量输入网络计算得到输出然后使用tanh将其映射到[-1,1]中再映射到真实空间完成连续控制输出"
   ]
  },
  {
   "cell_type": "code",
   "execution_count": 2,
   "metadata": {},
   "outputs": [],
   "source": [
    "class BaselineActor(nn.Module):\n",
    "    def __init__(self, state_size, action_size, hidden_size=400):\n",
    "        super().__init__()\n",
    "        self.fc1 = nn.Linear(state_size, hidden_size)\n",
    "        self.fc2 = nn.Linear(hidden_size, hidden_size)\n",
    "        self.out = nn.Linear(hidden_size, action_size)\n",
    "\n",
    "    def forward(self, state):\n",
    "        x = F.relu(self.fc1(state))\n",
    "        x = F.relu(self.fc2(x))\n",
    "        act = torch.tanh(self.out(x))\n",
    "        return act"
   ]
  },
  {
   "cell_type": "code",
   "execution_count": 41,
   "metadata": {},
   "outputs": [
    {
     "data": {
      "text/plain": [
       "tensor([[ 0.0835, -0.0681,  0.1415, -0.0943]], grad_fn=<TanhBackward0>)"
      ]
     },
     "execution_count": 41,
     "metadata": {},
     "output_type": "execute_result"
    }
   ],
   "source": [
    "actor=BaselineActor(3,4)\n",
    "state=torch.rand(1,3)\n",
    "actor.forward(state)"
   ]
  },
  {
   "cell_type": "markdown",
   "metadata": {},
   "source": [
    "## 如何评价\n",
    "$$\n",
    "Q(s,a;\\theta^{q})\n",
    "$$\n",
    "输入state和action然后全连接输出一个值近似$Q$值"
   ]
  },
  {
   "cell_type": "code",
   "execution_count": 42,
   "metadata": {},
   "outputs": [],
   "source": [
    "\n",
    "class BaselineCritic(nn.Module):\n",
    "    def __init__(self, state_size, action_size, hidden_size=400):\n",
    "        super().__init__()\n",
    "        self.fc1 = nn.Linear(state_size + action_size, hidden_size)\n",
    "        self.fc2 = nn.Linear(hidden_size, hidden_size)\n",
    "        self.out = nn.Linear(hidden_size, 1)\n",
    "\n",
    "    def forward(self, state, action):\n",
    "        x = torch.cat((state, action), dim=1)\n",
    "        x = F.relu(self.fc1(x))\n",
    "        x = F.relu(self.fc2(x))\n",
    "        val = self.out(x)\n",
    "        return val"
   ]
  },
  {
   "cell_type": "code",
   "execution_count": 54,
   "metadata": {},
   "outputs": [
    {
     "data": {
      "text/plain": [
       "tensor([[-0.0444]], grad_fn=<AddmmBackward0>)"
      ]
     },
     "execution_count": 54,
     "metadata": {},
     "output_type": "execute_result"
    }
   ],
   "source": [
    "actor=BaselineActor(3,4)\n",
    "critic=BaselineCritic(3,4)\n",
    "state=torch.rand(1,3)\n",
    "action=actor.forward(state)\n",
    "value=critic(state,action)\n",
    "value"
   ]
  },
  {
   "cell_type": "markdown",
   "metadata": {},
   "source": [
    "# 如何训练\n",
    "## 训练 critic\n",
    "$$\n",
    "TD_{target}=\\hat{y}_t=r_t+\\gamma*q(s_{t+1},a_{t+1})\\\\\n",
    "L=\\frac{1}{2}{(\\hat{y}-q(s_t,a_t))}\n",
    "$$\n",
    "## 训练actor\n",
    "$$\n",
    "L=-q(s_t,\\mu(s_t))\n",
    "$$"
   ]
  },
  {
   "cell_type": "markdown",
   "metadata": {},
   "source": [
    "# 经验回放数组\n",
    "`ReplayBuffer`\n",
    "- s_stack,保存当前状态\n",
    "- action_stack，根据当前状态所做的动作\n",
    "- reward_stack，做出动作后环境的反馈\n",
    "- s1_stack，下一个状态\n",
    "- done_stack，当前状态是否完成任务\n",
    "在训练的时候会从数组中随机选取batch_size大小的数据进行训练\n"
   ]
  },
  {
   "cell_type": "markdown",
   "metadata": {},
   "source": [
    "# 目标网络\n",
    "> 用目标网络计算 TD 目标，从而缓解bootstrap带来的偏差\n",
    "\n",
    "使用目标网络来计算TD目标\n",
    "$$\n",
    "\\theta^{{Q}^{,}}=\\tau \\theta^{Q}+(1-\\tau)\\theta^{{Q}^{,}}\\\\\n",
    "\\theta^{\\mu^{,}}=\\tau \\theta^{\\mu}+(1-\\tau)\\theta^{\\mu^{,}}\n",
    "$$"
   ]
  }
 ],
 "metadata": {
  "interpreter": {
   "hash": "29fdb9d17a16d7ebf07d09013ed7f7e1451158592c71ed533fc1edd362e4f364"
  },
  "kernelspec": {
   "display_name": "Python 3.8.13 ('py38')",
   "language": "python",
   "name": "python3"
  },
  "language_info": {
   "codemirror_mode": {
    "name": "ipython",
    "version": 3
   },
   "file_extension": ".py",
   "mimetype": "text/x-python",
   "name": "python",
   "nbconvert_exporter": "python",
   "pygments_lexer": "ipython3",
   "version": "3.8.13"
  },
  "orig_nbformat": 4
 },
 "nbformat": 4,
 "nbformat_minor": 2
}
